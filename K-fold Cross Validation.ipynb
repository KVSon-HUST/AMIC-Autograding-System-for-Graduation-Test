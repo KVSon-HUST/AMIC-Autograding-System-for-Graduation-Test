{
  "nbformat": 4,
  "nbformat_minor": 0,
  "metadata": {
    "colab": {
      "provenance": [],
      "gpuType": "T4"
    },
    "kernelspec": {
      "name": "python3",
      "display_name": "Python 3"
    },
    "language_info": {
      "name": "python"
    },
    "accelerator": "GPU"
  },
  "cells": [
    {
      "cell_type": "code",
      "source": [
        "!pip install ultralytics\n",
        "import ultralytics\n",
        "ultralytics.checks()"
      ],
      "metadata": {
        "id": "uSgIlXMDKcaR",
        "colab": {
          "base_uri": "https://localhost:8080/"
        },
        "outputId": "6a0ec0dd-0ce2-4b40-c49c-c6ad3d47679f"
      },
      "execution_count": null,
      "outputs": [
        {
          "output_type": "stream",
          "name": "stdout",
          "text": [
            "Ultralytics 8.3.27 🚀 Python-3.10.12 torch-2.5.0+cu121 CUDA:0 (Tesla T4, 15102MiB)\n",
            "Setup complete ✅ (2 CPUs, 12.7 GB RAM, 32.1/112.6 GB disk)\n"
          ]
        }
      ]
    },
    {
      "cell_type": "code",
      "source": [
        "from google.colab import drive\n",
        "drive.mount('/content/drive')  # Kết nối Google Drive"
      ],
      "metadata": {
        "colab": {
          "base_uri": "https://localhost:8080/"
        },
        "id": "PgZdgn_EDGf8",
        "outputId": "b504ee7a-faa1-432e-910e-63cb8d395426"
      },
      "execution_count": null,
      "outputs": [
        {
          "output_type": "stream",
          "name": "stdout",
          "text": [
            "Mounted at /content/drive\n"
          ]
        }
      ]
    },
    {
      "cell_type": "code",
      "source": [
        "!ls \"/content/drive/My Drive/train_20241023.zip\""
      ],
      "metadata": {
        "colab": {
          "base_uri": "https://localhost:8080/"
        },
        "id": "ASZJCgAOETfg",
        "outputId": "f14ce4c8-6de9-412b-baa8-4d9aa15a5553"
      },
      "execution_count": null,
      "outputs": [
        {
          "output_type": "stream",
          "name": "stdout",
          "text": [
            "'/content/drive/My Drive/train_20241023.zip'\n"
          ]
        }
      ]
    },
    {
      "cell_type": "code",
      "source": [
        "!ls '/content/train_data'"
      ],
      "metadata": {
        "colab": {
          "base_uri": "https://localhost:8080/"
        },
        "id": "7goBYSAfqRdO",
        "outputId": "458949ae-f7f9-49b2-f2e6-72815f996d2b"
      },
      "execution_count": null,
      "outputs": [
        {
          "output_type": "stream",
          "name": "stdout",
          "text": [
            "daytime  nighttime\n"
          ]
        }
      ]
    },
    {
      "cell_type": "code",
      "source": [
        "import os\n",
        "import shutil\n",
        "\n",
        "# Đường dẫn đến các thư mục daytime và nighttime\n",
        "daytime_images_dir = '/content/train_data/daytime'  # Đường dẫn đến thư mục daytime\n",
        "nighttime_images_dir = '/content/train_data/nighttime'  # Đường dẫn đến thư mục nighttime\n",
        "\n",
        "# Thư mục đích lưu dữ liệu hợp nhất\n",
        "combined_images_dir = '/content/drive/MyDrive/your_project/combined_dataset/images'\n",
        "combined_labels_dir = '/content/drive/MyDrive/your_project/combined_dataset/labels'\n",
        "\n",
        "# Tạo thư mục lưu dữ liệu hợp nhất nếu chưa có\n",
        "os.makedirs(combined_images_dir, exist_ok=True)\n",
        "os.makedirs(combined_labels_dir, exist_ok=True)\n",
        "\n",
        "# Hàm chuyển đổi nhãn cho nighttime\n",
        "def convert_label(line):\n",
        "    parts = line.strip().split()\n",
        "    label = int(parts[0])\n",
        "\n",
        "    # Chuyển đổi nhãn\n",
        "    if label == 4:\n",
        "        label = 0\n",
        "    elif label == 5:\n",
        "        label = 1\n",
        "    elif label == 6:\n",
        "        label = 2\n",
        "    elif label == 7:\n",
        "        label = 3\n",
        "\n",
        "    # Tạo lại dòng label đã chuyển đổi\n",
        "    parts[0] = str(label)\n",
        "    return ' '.join(parts)\n",
        "\n",
        "# Hàm sao chép và chuyển đổi file\n",
        "def process_files(images_dir, convert_labels=False):\n",
        "    for file_name in os.listdir(images_dir):\n",
        "        if file_name.endswith('.jpg'):\n",
        "            # Tên file ảnh và label tương ứng\n",
        "            image_file = file_name\n",
        "            label_file = file_name.replace('.jpg', '.txt')\n",
        "\n",
        "            # Sao chép file ảnh vào thư mục combined\n",
        "            shutil.copy(os.path.join(images_dir, image_file), os.path.join(combined_images_dir, image_file))\n",
        "\n",
        "            # Đọc và xử lý file label nếu có\n",
        "            if os.path.exists(os.path.join(images_dir, label_file)):\n",
        "                with open(os.path.join(images_dir, label_file), 'r') as f:\n",
        "                    lines = f.readlines()\n",
        "\n",
        "                # Nếu convert_labels là True, chuyển đổi nhãn\n",
        "                if convert_labels:\n",
        "                    lines = [convert_label(line) for line in lines]\n",
        "\n",
        "                # Lưu label vào thư mục combined\n",
        "                with open(os.path.join(combined_labels_dir, label_file), 'w') as f:\n",
        "                    f.writelines(lines)\n",
        "\n",
        "# Xử lý và sao chép dữ liệu daytime và nighttime\n",
        "process_files(daytime_images_dir, convert_labels=False)\n",
        "process_files(nighttime_images_dir, convert_labels=True)\n",
        "\n",
        "print(\"Dữ liệu đã được chuyển đổi và gộp thành công!\")\n"
      ],
      "metadata": {
        "colab": {
          "base_uri": "https://localhost:8080/"
        },
        "id": "m88cAjAsrIyC",
        "outputId": "750ef2ab-e31c-4c13-91b4-6c66e07d457d"
      },
      "execution_count": null,
      "outputs": [
        {
          "output_type": "stream",
          "name": "stdout",
          "text": [
            "Dữ liệu đã được chuyển đổi và gộp thành công!\n"
          ]
        }
      ]
    },
    {
      "cell_type": "code",
      "source": [
        "!pip install scikit-learn"
      ],
      "metadata": {
        "colab": {
          "base_uri": "https://localhost:8080/"
        },
        "id": "SpfJHpnHxBBH",
        "outputId": "de56e9ae-92e8-4028-b73a-6074b9da386d"
      },
      "execution_count": null,
      "outputs": [
        {
          "output_type": "stream",
          "name": "stdout",
          "text": [
            "Requirement already satisfied: scikit-learn in /usr/local/lib/python3.10/dist-packages (1.5.2)\n",
            "Requirement already satisfied: numpy>=1.19.5 in /usr/local/lib/python3.10/dist-packages (from scikit-learn) (1.26.4)\n",
            "Requirement already satisfied: scipy>=1.6.0 in /usr/local/lib/python3.10/dist-packages (from scikit-learn) (1.13.1)\n",
            "Requirement already satisfied: joblib>=1.2.0 in /usr/local/lib/python3.10/dist-packages (from scikit-learn) (1.4.2)\n",
            "Requirement already satisfied: threadpoolctl>=3.1.0 in /usr/local/lib/python3.10/dist-packages (from scikit-learn) (3.5.0)\n"
          ]
        }
      ]
    },
    {
      "cell_type": "code",
      "source": [
        "import os\n",
        "import shutil\n",
        "from sklearn.model_selection import KFold\n",
        "\n",
        "# Đường dẫn đến dữ liệu\n",
        "images_dir = '/content/drive/MyDrive/your_project/combined_dataset/images'\n",
        "labels_dir = '/content/drive/MyDrive/your_project/combined_dataset/labels'\n",
        "k = 5  # Số lượng folds\n",
        "output_base_dir = '/content/drive/MyDrive/your_project/cross_validation_folds'\n",
        "\n",
        "# Tạo KFold cho Cross Validation\n",
        "kf = KFold(n_splits=k, shuffle=True, random_state=42)\n",
        "image_files = sorted([f for f in os.listdir(images_dir) if f.endswith('.jpg')])\n",
        "\n",
        "# Chia dữ liệu thành các folds\n",
        "for fold, (train_idx, val_idx) in enumerate(kf.split(image_files)):\n",
        "    fold_dir = os.path.join(output_base_dir, f'fold_{fold}')\n",
        "    os.makedirs(fold_dir, exist_ok=True)\n",
        "\n",
        "    train_images_dir = os.path.join(fold_dir, 'train/images')\n",
        "    train_labels_dir = os.path.join(fold_dir, 'train/labels')\n",
        "    val_images_dir = os.path.join(fold_dir, 'val/images')\n",
        "    val_labels_dir = os.path.join(fold_dir, 'val/labels')\n",
        "\n",
        "    os.makedirs(train_images_dir, exist_ok=True)\n",
        "    os.makedirs(train_labels_dir, exist_ok=True)\n",
        "    os.makedirs(val_images_dir, exist_ok=True)\n",
        "    os.makedirs(val_labels_dir, exist_ok=True)\n",
        "\n",
        "    # Copy train data\n",
        "    for idx in train_idx:\n",
        "        img_file = image_files[idx]\n",
        "        label_file = img_file.replace('.jpg', '.txt')\n",
        "\n",
        "        # Kiểm tra nếu file ảnh và file nhãn đều tồn tại\n",
        "        if not os.path.exists(os.path.join(images_dir, img_file)):\n",
        "            print(f\"File ảnh {img_file} không tồn tại, bỏ qua.\")\n",
        "            continue\n",
        "        if not os.path.exists(os.path.join(labels_dir, label_file)):\n",
        "            print(f\"File nhãn {label_file} không tồn tại, bỏ qua.\")\n",
        "            continue\n",
        "\n",
        "        # Sao chép file vào thư mục train\n",
        "        shutil.copy(os.path.join(images_dir, img_file), os.path.join(train_images_dir, img_file))\n",
        "        shutil.copy(os.path.join(labels_dir, label_file), os.path.join(train_labels_dir, label_file))\n",
        "\n",
        "    # Copy val data\n",
        "    for idx in val_idx:\n",
        "        img_file = image_files[idx]\n",
        "        label_file = img_file.replace('.jpg', '.txt')\n",
        "\n",
        "        # Kiểm tra nếu file ảnh và file nhãn đều tồn tại\n",
        "        if not os.path.exists(os.path.join(images_dir, img_file)):\n",
        "            print(f\"File ảnh {img_file} không tồn tại, bỏ qua.\")\n",
        "            continue\n",
        "        if not os.path.exists(os.path.join(labels_dir, label_file)):\n",
        "            print(f\"File nhãn {label_file} không tồn tại, bỏ qua.\")\n",
        "            continue\n",
        "\n",
        "        # Sao chép file vào thư mục val\n",
        "        shutil.copy(os.path.join(images_dir, img_file), os.path.join(val_images_dir, img_file))\n",
        "        shutil.copy(os.path.join(labels_dir, label_file), os.path.join(val_labels_dir, label_file))\n",
        "\n",
        "    # Tạo file .yaml cho YOLOv8\n",
        "    with open(os.path.join(fold_dir, 'data.yaml'), 'w') as f:\n",
        "        f.write(f'train: {train_images_dir}\\n')\n",
        "        f.write(f'val: {val_images_dir}\\n')\n",
        "        f.write(f'nc: 4\\n')  # Số lớp của bạn\n",
        "        f.write(f'names: [\"0\", \"1\", \"2\", \"3\"]\\n')\n"
      ],
      "metadata": {
        "id": "2IXNdrdF7eri"
      },
      "execution_count": null,
      "outputs": []
    },
    {
      "cell_type": "code",
      "source": [
        "from ultralytics import YOLO\n",
        "import os\n",
        "import shutil\n",
        "\n",
        "# Thiết lập đường dẫn để lưu model tốt nhất và checkpoint\n",
        "output_base_dir = '/content/drive/MyDrive/your_project/cross_validation_folds'\n",
        "best_model_path = '/content/drive/MyDrive/your_project/best_model.pt'\n",
        "best_metric = float('-inf')  # Sử dụng mAP làm tiêu chí đánh giá tốt nhất\n",
        "\n",
        "# Số lượng folds và epochs\n",
        "k = 5\n",
        "epochs = 12\n",
        "\n",
        "# Khởi động huấn luyện với từng fold\n",
        "for fold in range(k):\n",
        "    data_yaml = f'{output_base_dir}/fold_{fold}/data.yaml'\n",
        "\n",
        "    # Đường dẫn checkpoint để lưu và kiểm tra\n",
        "    checkpoint_dir = f'{output_base_dir}/checkpoints/fold_{fold}'\n",
        "    os.makedirs(checkpoint_dir, exist_ok=True)\n",
        "    last_checkpoint = os.path.join(checkpoint_dir, 'last.pt')\n",
        "\n",
        "    # Kiểm tra nếu đã có checkpoint để tiếp tục từ đó\n",
        "    if os.path.exists(last_checkpoint):\n",
        "        print(f\"Tiếp tục huấn luyện từ checkpoint của fold {fold} tại {last_checkpoint}\")\n",
        "        model = YOLO(last_checkpoint)  # Tải model từ checkpoint\n",
        "        resume_training = True\n",
        "    else:\n",
        "        print(f\"Bắt đầu huấn luyện mới cho fold {fold}\")\n",
        "        model = YOLO('yolov8n.yaml')  # Tạo model mới\n",
        "        resume_training = False\n",
        "\n",
        "    # Huấn luyện model\n",
        "    results = model.train(\n",
        "        data=data_yaml,\n",
        "        epochs=epochs,\n",
        "        imgsz=640,\n",
        "        project='/content/drive/MyDrive/your_project/yolo_fold_results',  # Thư mục lưu kết quả\n",
        "        name=f'fold_{fold}',\n",
        "        save=True,\n",
        "        save_period=1,  # Lưu checkpoint mỗi epoch\n",
        "        resume=resume_training  # Tiếp tục từ checkpoint nếu có\n",
        "    )\n",
        "\n",
        "    # Kiểm tra nếu model hiện tại tốt hơn model tốt nhất và lưu lại nếu đúng\n",
        "    current_metric = results.metrics.mAP50  # mAP ở ngưỡng IoU 0.5\n",
        "    if current_metric > best_metric:\n",
        "        best_metric = current_metric\n",
        "        shutil.copy(results.best, best_model_path)  # Lưu model tốt nhất vào Google Drive\n",
        "\n",
        "print(\"Huấn luyện hoàn tất! Model tốt nhất đã được lưu tại:\", best_model_path)\n"
      ],
      "metadata": {
        "colab": {
          "base_uri": "https://localhost:8080/"
        },
        "id": "sWnb_cpXB-7R",
        "outputId": "9a8f4bd3-2efa-461c-e31d-ed39a5b9f0e4"
      },
      "execution_count": null,
      "outputs": [
        {
          "output_type": "stream",
          "name": "stdout",
          "text": [
            "Bắt đầu huấn luyện mới cho fold 0\n",
            "Ultralytics 8.3.27 🚀 Python-3.10.12 torch-2.5.0+cu121 CUDA:0 (Tesla T4, 15102MiB)\n",
            "\u001b[34m\u001b[1mengine/trainer: \u001b[0mtask=detect, mode=train, model=yolov8n.yaml, data=/content/drive/MyDrive/your_project/cross_validation_folds/fold_0/data.yaml, epochs=12, time=None, patience=100, batch=16, imgsz=640, save=True, save_period=1, cache=False, device=None, workers=8, project=/content/drive/MyDrive/your_project/yolo_fold_results, name=fold_011, exist_ok=False, pretrained=True, optimizer=auto, verbose=True, seed=0, deterministic=True, single_cls=False, rect=False, cos_lr=False, close_mosaic=10, resume=False, amp=True, fraction=1.0, profile=False, freeze=None, multi_scale=False, overlap_mask=True, mask_ratio=4, dropout=0.0, val=True, split=val, save_json=False, save_hybrid=False, conf=None, iou=0.7, max_det=300, half=False, dnn=False, plots=True, source=None, vid_stride=1, stream_buffer=False, visualize=False, augment=False, agnostic_nms=False, classes=None, retina_masks=False, embed=None, show=False, save_frames=False, save_txt=False, save_conf=False, save_crop=False, show_labels=True, show_conf=True, show_boxes=True, line_width=None, format=torchscript, keras=False, optimize=False, int8=False, dynamic=False, simplify=True, opset=None, workspace=4, nms=False, lr0=0.01, lrf=0.01, momentum=0.937, weight_decay=0.0005, warmup_epochs=3.0, warmup_momentum=0.8, warmup_bias_lr=0.1, box=7.5, cls=0.5, dfl=1.5, pose=12.0, kobj=1.0, label_smoothing=0.0, nbs=64, hsv_h=0.015, hsv_s=0.7, hsv_v=0.4, degrees=0.0, translate=0.1, scale=0.5, shear=0.0, perspective=0.0, flipud=0.0, fliplr=0.5, bgr=0.0, mosaic=1.0, mixup=0.0, copy_paste=0.0, copy_paste_mode=flip, auto_augment=randaugment, erasing=0.4, crop_fraction=1.0, cfg=None, tracker=botsort.yaml, save_dir=/content/drive/MyDrive/your_project/yolo_fold_results/fold_011\n",
            "Overriding model.yaml nc=80 with nc=4\n",
            "\n",
            "                   from  n    params  module                                       arguments                     \n",
            "  0                  -1  1       464  ultralytics.nn.modules.conv.Conv             [3, 16, 3, 2]                 \n",
            "  1                  -1  1      4672  ultralytics.nn.modules.conv.Conv             [16, 32, 3, 2]                \n",
            "  2                  -1  1      7360  ultralytics.nn.modules.block.C2f             [32, 32, 1, True]             \n",
            "  3                  -1  1     18560  ultralytics.nn.modules.conv.Conv             [32, 64, 3, 2]                \n",
            "  4                  -1  2     49664  ultralytics.nn.modules.block.C2f             [64, 64, 2, True]             \n",
            "  5                  -1  1     73984  ultralytics.nn.modules.conv.Conv             [64, 128, 3, 2]               \n",
            "  6                  -1  2    197632  ultralytics.nn.modules.block.C2f             [128, 128, 2, True]           \n",
            "  7                  -1  1    295424  ultralytics.nn.modules.conv.Conv             [128, 256, 3, 2]              \n",
            "  8                  -1  1    460288  ultralytics.nn.modules.block.C2f             [256, 256, 1, True]           \n",
            "  9                  -1  1    164608  ultralytics.nn.modules.block.SPPF            [256, 256, 5]                 \n",
            " 10                  -1  1         0  torch.nn.modules.upsampling.Upsample         [None, 2, 'nearest']          \n",
            " 11             [-1, 6]  1         0  ultralytics.nn.modules.conv.Concat           [1]                           \n",
            " 12                  -1  1    148224  ultralytics.nn.modules.block.C2f             [384, 128, 1]                 \n",
            " 13                  -1  1         0  torch.nn.modules.upsampling.Upsample         [None, 2, 'nearest']          \n",
            " 14             [-1, 4]  1         0  ultralytics.nn.modules.conv.Concat           [1]                           \n",
            " 15                  -1  1     37248  ultralytics.nn.modules.block.C2f             [192, 64, 1]                  \n",
            " 16                  -1  1     36992  ultralytics.nn.modules.conv.Conv             [64, 64, 3, 2]                \n",
            " 17            [-1, 12]  1         0  ultralytics.nn.modules.conv.Concat           [1]                           \n",
            " 18                  -1  1    123648  ultralytics.nn.modules.block.C2f             [192, 128, 1]                 \n",
            " 19                  -1  1    147712  ultralytics.nn.modules.conv.Conv             [128, 128, 3, 2]              \n",
            " 20             [-1, 9]  1         0  ultralytics.nn.modules.conv.Concat           [1]                           \n",
            " 21                  -1  1    493056  ultralytics.nn.modules.block.C2f             [384, 256, 1]                 \n",
            " 22        [15, 18, 21]  1    752092  ultralytics.nn.modules.head.Detect           [4, [64, 128, 256]]           \n",
            "YOLOv8n summary: 225 layers, 3,011,628 parameters, 3,011,612 gradients, 8.2 GFLOPs\n",
            "\n",
            "\u001b[34m\u001b[1mTensorBoard: \u001b[0mStart with 'tensorboard --logdir /content/drive/MyDrive/your_project/yolo_fold_results/fold_011', view at http://localhost:6006/\n",
            "Freezing layer 'model.22.dfl.conv.weight'\n",
            "\u001b[34m\u001b[1mAMP: \u001b[0mrunning Automatic Mixed Precision (AMP) checks...\n",
            "\u001b[34m\u001b[1mAMP: \u001b[0mchecks passed ✅\n"
          ]
        },
        {
          "output_type": "stream",
          "name": "stderr",
          "text": [
            "\u001b[34m\u001b[1mtrain: \u001b[0mScanning /content/drive/MyDrive/your_project/cross_validation_folds/fold_0/train/labels.cache... 10291 images, 1 backgrounds, 0 corrupt: 100%|██████████| 10292/10292 [00:00<?, ?it/s]"
          ]
        },
        {
          "output_type": "stream",
          "name": "stdout",
          "text": [
            "\u001b[34m\u001b[1mtrain: \u001b[0mWARNING ⚠️ /content/drive/MyDrive/your_project/cross_validation_folds/fold_0/train/images/cam_02_00316.jpg: 1 duplicate labels removed\n",
            "\u001b[34m\u001b[1mtrain: \u001b[0mWARNING ⚠️ /content/drive/MyDrive/your_project/cross_validation_folds/fold_0/train/images/cam_02_00565.jpg: 1 duplicate labels removed\n",
            "\u001b[34m\u001b[1mtrain: \u001b[0mWARNING ⚠️ /content/drive/MyDrive/your_project/cross_validation_folds/fold_0/train/images/cam_02_00579.jpg: 1 duplicate labels removed\n",
            "\u001b[34m\u001b[1mtrain: \u001b[0mWARNING ⚠️ /content/drive/MyDrive/your_project/cross_validation_folds/fold_0/train/images/cam_02_00951.jpg: 1 duplicate labels removed\n",
            "\u001b[34m\u001b[1mtrain: \u001b[0mWARNING ⚠️ /content/drive/MyDrive/your_project/cross_validation_folds/fold_0/train/images/cam_04_00014.jpg: 1 duplicate labels removed\n",
            "\u001b[34m\u001b[1mtrain: \u001b[0mWARNING ⚠️ /content/drive/MyDrive/your_project/cross_validation_folds/fold_0/train/images/cam_04_00018.jpg: 1 duplicate labels removed\n",
            "\u001b[34m\u001b[1mtrain: \u001b[0mWARNING ⚠️ /content/drive/MyDrive/your_project/cross_validation_folds/fold_0/train/images/cam_04_00022.jpg: 1 duplicate labels removed\n",
            "\u001b[34m\u001b[1mtrain: \u001b[0mWARNING ⚠️ /content/drive/MyDrive/your_project/cross_validation_folds/fold_0/train/images/cam_04_00257.jpg: 1 duplicate labels removed\n",
            "\u001b[34m\u001b[1mtrain: \u001b[0mWARNING ⚠️ /content/drive/MyDrive/your_project/cross_validation_folds/fold_0/train/images/cam_04_00279.jpg: 1 duplicate labels removed\n",
            "\u001b[34m\u001b[1mtrain: \u001b[0mWARNING ⚠️ /content/drive/MyDrive/your_project/cross_validation_folds/fold_0/train/images/cam_04_00310.jpg: 1 duplicate labels removed\n",
            "\u001b[34m\u001b[1mtrain: \u001b[0mWARNING ⚠️ /content/drive/MyDrive/your_project/cross_validation_folds/fold_0/train/images/cam_04_00328.jpg: 1 duplicate labels removed\n",
            "\u001b[34m\u001b[1mtrain: \u001b[0mWARNING ⚠️ /content/drive/MyDrive/your_project/cross_validation_folds/fold_0/train/images/cam_04_00346.jpg: 1 duplicate labels removed\n",
            "\u001b[34m\u001b[1mtrain: \u001b[0mWARNING ⚠️ /content/drive/MyDrive/your_project/cross_validation_folds/fold_0/train/images/cam_04_00355.jpg: 1 duplicate labels removed\n",
            "\u001b[34m\u001b[1mtrain: \u001b[0mWARNING ⚠️ /content/drive/MyDrive/your_project/cross_validation_folds/fold_0/train/images/cam_04_00374.jpg: 2 duplicate labels removed\n",
            "\u001b[34m\u001b[1mtrain: \u001b[0mWARNING ⚠️ /content/drive/MyDrive/your_project/cross_validation_folds/fold_0/train/images/cam_04_00491.jpg: 1 duplicate labels removed\n",
            "\u001b[34m\u001b[1mtrain: \u001b[0mWARNING ⚠️ /content/drive/MyDrive/your_project/cross_validation_folds/fold_0/train/images/cam_04_00514.jpg: 1 duplicate labels removed\n",
            "\u001b[34m\u001b[1mtrain: \u001b[0mWARNING ⚠️ /content/drive/MyDrive/your_project/cross_validation_folds/fold_0/train/images/cam_04_00633.jpg: 1 duplicate labels removed\n",
            "\u001b[34m\u001b[1mtrain: \u001b[0mWARNING ⚠️ /content/drive/MyDrive/your_project/cross_validation_folds/fold_0/train/images/cam_04_00709.jpg: 1 duplicate labels removed\n",
            "\u001b[34m\u001b[1mtrain: \u001b[0mWARNING ⚠️ /content/drive/MyDrive/your_project/cross_validation_folds/fold_0/train/images/cam_04_00716.jpg: 1 duplicate labels removed\n",
            "\u001b[34m\u001b[1mtrain: \u001b[0mWARNING ⚠️ /content/drive/MyDrive/your_project/cross_validation_folds/fold_0/train/images/cam_04_00915.jpg: 1 duplicate labels removed\n",
            "\u001b[34m\u001b[1mtrain: \u001b[0mWARNING ⚠️ /content/drive/MyDrive/your_project/cross_validation_folds/fold_0/train/images/cam_04_00947.jpg: 1 duplicate labels removed\n",
            "\u001b[34m\u001b[1mtrain: \u001b[0mWARNING ⚠️ /content/drive/MyDrive/your_project/cross_validation_folds/fold_0/train/images/cam_06_00803.jpg: 1 duplicate labels removed\n",
            "\u001b[34m\u001b[1mtrain: \u001b[0mWARNING ⚠️ /content/drive/MyDrive/your_project/cross_validation_folds/fold_0/train/images/cam_10_00135.jpg: 1 duplicate labels removed\n",
            "\u001b[34m\u001b[1mtrain: \u001b[0mWARNING ⚠️ /content/drive/MyDrive/your_project/cross_validation_folds/fold_0/train/images/cam_10_00136.jpg: 1 duplicate labels removed\n",
            "WARNING ⚠️ Box and segment counts should be equal, but got len(segments) = 3292, len(boxes) = 94763. To resolve this only boxes will be used and all segments will be removed. To avoid this please supply either a detect or segment dataset, not a detect-segment mixed dataset.\n",
            "\u001b[34m\u001b[1malbumentations: \u001b[0mBlur(p=0.01, blur_limit=(3, 7)), MedianBlur(p=0.01, blur_limit=(3, 7)), ToGray(p=0.01, num_output_channels=3, method='weighted_average'), CLAHE(p=0.01, clip_limit=(1.0, 4.0), tile_grid_size=(8, 8))\n"
          ]
        },
        {
          "output_type": "stream",
          "name": "stderr",
          "text": [
            "\n",
            "\u001b[34m\u001b[1mval: \u001b[0mScanning /content/drive/MyDrive/your_project/cross_validation_folds/fold_0/val/labels.cache... 2304 images, 0 backgrounds, 0 corrupt: 100%|██████████| 2304/2304 [00:00<?, ?it/s]"
          ]
        },
        {
          "output_type": "stream",
          "name": "stdout",
          "text": [
            "\u001b[34m\u001b[1mval: \u001b[0mWARNING ⚠️ /content/drive/MyDrive/your_project/cross_validation_folds/fold_0/val/images/cam_01_00317.jpg: 1 duplicate labels removed\n",
            "\u001b[34m\u001b[1mval: \u001b[0mWARNING ⚠️ /content/drive/MyDrive/your_project/cross_validation_folds/fold_0/val/images/cam_01_00857.jpg: 1 duplicate labels removed\n",
            "\u001b[34m\u001b[1mval: \u001b[0mWARNING ⚠️ /content/drive/MyDrive/your_project/cross_validation_folds/fold_0/val/images/cam_01_00961.jpg: 1 duplicate labels removed\n",
            "\u001b[34m\u001b[1mval: \u001b[0mWARNING ⚠️ /content/drive/MyDrive/your_project/cross_validation_folds/fold_0/val/images/cam_04_00014.jpg: 1 duplicate labels removed\n",
            "\u001b[34m\u001b[1mval: \u001b[0mWARNING ⚠️ /content/drive/MyDrive/your_project/cross_validation_folds/fold_0/val/images/cam_04_00016.jpg: 1 duplicate labels removed\n",
            "\u001b[34m\u001b[1mval: \u001b[0mWARNING ⚠️ /content/drive/MyDrive/your_project/cross_validation_folds/fold_0/val/images/cam_04_00110.jpg: 1 duplicate labels removed\n",
            "\u001b[34m\u001b[1mval: \u001b[0mWARNING ⚠️ /content/drive/MyDrive/your_project/cross_validation_folds/fold_0/val/images/cam_04_00536.jpg: 1 duplicate labels removed\n",
            "\u001b[34m\u001b[1mval: \u001b[0mWARNING ⚠️ /content/drive/MyDrive/your_project/cross_validation_folds/fold_0/val/images/cam_04_00881.jpg: 1 duplicate labels removed\n",
            "\u001b[34m\u001b[1mval: \u001b[0mWARNING ⚠️ /content/drive/MyDrive/your_project/cross_validation_folds/fold_0/val/images/cam_06_00803.jpg: 1 duplicate labels removed\n",
            "WARNING ⚠️ Box and segment counts should be equal, but got len(segments) = 745, len(boxes) = 20276. To resolve this only boxes will be used and all segments will be removed. To avoid this please supply either a detect or segment dataset, not a detect-segment mixed dataset.\n"
          ]
        },
        {
          "output_type": "stream",
          "name": "stderr",
          "text": [
            "\n"
          ]
        },
        {
          "output_type": "stream",
          "name": "stdout",
          "text": [
            "Plotting labels to /content/drive/MyDrive/your_project/yolo_fold_results/fold_011/labels.jpg... \n",
            "\u001b[34m\u001b[1moptimizer:\u001b[0m 'optimizer=auto' found, ignoring 'lr0=0.01' and 'momentum=0.937' and determining best 'optimizer', 'lr0' and 'momentum' automatically... \n",
            "\u001b[34m\u001b[1moptimizer:\u001b[0m AdamW(lr=0.00125, momentum=0.9) with parameter groups 57 weight(decay=0.0), 64 weight(decay=0.0005), 63 bias(decay=0.0)\n",
            "\u001b[34m\u001b[1mTensorBoard: \u001b[0mmodel graph visualization added ✅\n",
            "Image sizes 640 train, 640 val\n",
            "Using 2 dataloader workers\n",
            "Logging results to \u001b[1m/content/drive/MyDrive/your_project/yolo_fold_results/fold_011\u001b[0m\n",
            "Starting training for 12 epochs...\n",
            "\n",
            "      Epoch    GPU_mem   box_loss   cls_loss   dfl_loss  Instances       Size\n"
          ]
        },
        {
          "output_type": "stream",
          "name": "stderr",
          "text": [
            "       1/12      5.16G       3.01      2.977      2.687         20        640: 100%|██████████| 644/644 [05:14<00:00,  2.05it/s]\n",
            "                 Class     Images  Instances      Box(P          R      mAP50  mAP50-95): 100%|██████████| 72/72 [00:36<00:00,  1.99it/s]\n"
          ]
        },
        {
          "output_type": "stream",
          "name": "stdout",
          "text": [
            "                   all       2304      20276        0.4      0.312      0.348      0.133\n",
            "\n",
            "      Epoch    GPU_mem   box_loss   cls_loss   dfl_loss  Instances       Size\n"
          ]
        },
        {
          "output_type": "stream",
          "name": "stderr",
          "text": [
            "       2/12      3.81G      1.953      1.495      1.488         64        640: 100%|██████████| 644/644 [05:09<00:00,  2.08it/s]\n",
            "                 Class     Images  Instances      Box(P          R      mAP50  mAP50-95): 100%|██████████| 72/72 [00:33<00:00,  2.14it/s]\n"
          ]
        },
        {
          "output_type": "stream",
          "name": "stdout",
          "text": [
            "                   all       2304      20276      0.644      0.555      0.632      0.325\n",
            "Closing dataloader mosaic\n",
            "\u001b[34m\u001b[1malbumentations: \u001b[0mBlur(p=0.01, blur_limit=(3, 7)), MedianBlur(p=0.01, blur_limit=(3, 7)), ToGray(p=0.01, num_output_channels=3, method='weighted_average'), CLAHE(p=0.01, clip_limit=(1.0, 4.0), tile_grid_size=(8, 8))\n",
            "\n",
            "      Epoch    GPU_mem   box_loss   cls_loss   dfl_loss  Instances       Size\n"
          ]
        },
        {
          "output_type": "stream",
          "name": "stderr",
          "text": [
            "       3/12      3.14G      1.677      1.171      1.321         20        640: 100%|██████████| 644/644 [04:59<00:00,  2.15it/s]\n",
            "                 Class     Images  Instances      Box(P          R      mAP50  mAP50-95): 100%|██████████| 72/72 [00:32<00:00,  2.20it/s]\n"
          ]
        },
        {
          "output_type": "stream",
          "name": "stdout",
          "text": [
            "                   all       2304      20276      0.726       0.63      0.709      0.389\n",
            "\n",
            "      Epoch    GPU_mem   box_loss   cls_loss   dfl_loss  Instances       Size\n"
          ]
        },
        {
          "output_type": "stream",
          "name": "stderr",
          "text": [
            "       4/12       2.9G      1.581      1.038      1.255         12        640: 100%|██████████| 644/644 [04:54<00:00,  2.18it/s]\n",
            "                 Class     Images  Instances      Box(P          R      mAP50  mAP50-95): 100%|██████████| 72/72 [00:35<00:00,  2.04it/s]\n"
          ]
        },
        {
          "output_type": "stream",
          "name": "stdout",
          "text": [
            "                   all       2304      20276      0.745      0.659      0.743      0.426\n",
            "\n",
            "      Epoch    GPU_mem   box_loss   cls_loss   dfl_loss  Instances       Size\n"
          ]
        },
        {
          "output_type": "stream",
          "name": "stderr",
          "text": [
            "       5/12      3.07G      1.506     0.9585      1.214         23        640: 100%|██████████| 644/644 [04:51<00:00,  2.21it/s]\n",
            "                 Class     Images  Instances      Box(P          R      mAP50  mAP50-95): 100%|██████████| 72/72 [00:35<00:00,  2.05it/s]\n"
          ]
        },
        {
          "output_type": "stream",
          "name": "stdout",
          "text": [
            "                   all       2304      20276      0.771      0.687      0.774      0.456\n",
            "\n",
            "      Epoch    GPU_mem   box_loss   cls_loss   dfl_loss  Instances       Size\n"
          ]
        },
        {
          "output_type": "stream",
          "name": "stderr",
          "text": [
            "       6/12      2.77G       1.46     0.8984      1.187         28        640: 100%|██████████| 644/644 [04:51<00:00,  2.21it/s]\n",
            "                 Class     Images  Instances      Box(P          R      mAP50  mAP50-95): 100%|██████████| 72/72 [00:32<00:00,  2.20it/s]\n"
          ]
        },
        {
          "output_type": "stream",
          "name": "stdout",
          "text": [
            "                   all       2304      20276      0.784      0.714      0.796      0.478\n",
            "\n",
            "      Epoch    GPU_mem   box_loss   cls_loss   dfl_loss  Instances       Size\n"
          ]
        },
        {
          "output_type": "stream",
          "name": "stderr",
          "text": [
            "       7/12      3.15G      1.427     0.8649      1.165         32        640: 100%|██████████| 644/644 [04:55<00:00,  2.18it/s]\n",
            "                 Class     Images  Instances      Box(P          R      mAP50  mAP50-95): 100%|██████████| 72/72 [00:34<00:00,  2.07it/s]\n"
          ]
        },
        {
          "output_type": "stream",
          "name": "stdout",
          "text": [
            "                   all       2304      20276      0.817      0.731      0.827      0.499\n",
            "\n",
            "      Epoch    GPU_mem   box_loss   cls_loss   dfl_loss  Instances       Size\n"
          ]
        },
        {
          "output_type": "stream",
          "name": "stderr",
          "text": [
            "       8/12      2.52G      1.443     0.8786       1.16        133        640:   2%|▏         | 12/644 [00:05<06:17,  1.67it/s]"
          ]
        }
      ]
    }
  ]
}